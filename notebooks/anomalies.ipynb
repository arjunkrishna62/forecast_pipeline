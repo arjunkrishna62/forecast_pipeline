{
 "cells": [
  {
   "cell_type": "code",
   "execution_count": 5,
   "id": "6820a3ee",
   "metadata": {},
   "outputs": [],
   "source": [
    "import pandas as pd\n",
    "from sklearn.ensemble import IsolationForest\n",
    "import numpy as np"
   ]
  },
  {
   "cell_type": "code",
   "execution_count": 6,
   "id": "6ff2a88f",
   "metadata": {},
   "outputs": [],
   "source": [
    "def detect_anomalies(df):\n",
    "    features = ['downtime_hours', 'units_produced', 'power_kwh']  # Add more\n",
    "    model = IsolationForest(contamination=0.05, random_state=42)\n",
    "    df['anomaly_score'] = model.fit_predict(df[features])\n",
    "    anomalies = df[df['anomaly_score'] == -1].copy()\n",
    "    anomalies['reason'] = 'High downtime anomaly'  # Add logic for interpretability, e.g., if downtime > 3*mean\n",
    "    anomalies[['date', 'site_id', 'anomaly_score', 'reason']].to_csv('outputs/alerts.csv', index=False)\n",
    "    return anomalies"
   ]
  },
  {
   "cell_type": "code",
   "execution_count": 7,
   "id": "3cc29a98",
   "metadata": {},
   "outputs": [],
   "source": [
    "def detect_downtime(df, site_col='site_id', date_col='date', target='units_produced', power_col='power_kwh',\n",
    "                    window_median=7, mad_window=60, score_thresh=-3, low_power_frac=0.15):\n",
    "    df = df.sort_values([site_col, date_col]).copy()\n",
    "    alerts = []\n",
    "    for site, g in df.groupby(site_col):\n",
    "        g = g.reset_index(drop=True)\n",
    "        g['expected'] = g[target].rolling(window_median, min_periods=1).median()\n",
    "        g['residual'] = g[target] - g['expected']\n",
    "        g['mad'] = g['residual'].rolling(mad_window, min_periods=3).apply(lambda x: np.median(np.abs(x - np.median(x))), raw=True)\n",
    "        g['scale'] = g['mad'] * 1.4826\n",
    "        g['score'] = g['residual'] / g['scale'].replace(0, np.nan)\n",
    "        g['median_power_30d'] = g[power_col].rolling(30, min_periods=1).median()\n",
    "        cond = (g['score'] < score_thresh) & ((g[power_col] < low_power_frac * g['median_power_30d']) | (g[target] == 0))\n",
    "        for _, row in g[cond].iterrows():\n",
    "            alerts.append({\n",
    "                site_col: site,\n",
    "                date_col: row[date_col],\n",
    "                'metric': target,\n",
    "                'observed': row[target],\n",
    "                'expected': row['expected'],\n",
    "                'residual': row['residual'],\n",
    "                'score': row['score'],\n",
    "                'anomaly_type': 'downtime',\n",
    "                'rule_triggered': 'score_and_low_power_or_zero_units',\n",
    "                'explanation': f\"Score={row['score']:.2f}; power={row[power_col]}; expected={row['expected']:.1f}\"\n",
    "            })\n",
    "    return pd.DataFrame(alerts)"
   ]
  },
  {
   "cell_type": "code",
   "execution_count": null,
   "id": "8bdb5230",
   "metadata": {},
   "outputs": [],
   "source": []
  },
  {
   "cell_type": "code",
   "execution_count": null,
   "id": "8165c541",
   "metadata": {},
   "outputs": [],
   "source": []
  }
 ],
 "metadata": {
  "kernelspec": {
   "display_name": "assignment_env",
   "language": "python",
   "name": "python3"
  },
  "language_info": {
   "codemirror_mode": {
    "name": "ipython",
    "version": 3
   },
   "file_extension": ".py",
   "mimetype": "text/x-python",
   "name": "python",
   "nbconvert_exporter": "python",
   "pygments_lexer": "ipython3",
   "version": "3.13.3"
  }
 },
 "nbformat": 4,
 "nbformat_minor": 5
}
