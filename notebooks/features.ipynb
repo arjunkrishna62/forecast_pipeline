{
 "cells": [
  {
   "cell_type": "code",
   "execution_count": 2,
   "id": "f968a277",
   "metadata": {},
   "outputs": [],
   "source": [
    "def clean_data(df):\n",
    "    df = df.dropna(subset=['units_produced', 'power_kwh'])  # Or impute: df.fillna(method='ffill')\n",
    "    # Outliers: clip\n",
    "    for col in ['units_produced', 'power_kwh', 'downtime_hours']:\n",
    "        if col in df.columns:\n",
    "            lower, upper = df[col].quantile([0.01, 0.99])\n",
    "            df[col] = np.clip(df[col], lower, upper)\n",
    "    return df\n",
    "\n",
    "def engineer_features(df):\n",
    "    df = df.sort_values(['site_id', 'date'])\n",
    "    # Date features\n",
    "    df['dayofweek'] = df['date'].dt.dayofweek\n",
    "    df['month'] = df['date'].dt.month\n",
    "    # Lags and rolling\n",
    "    for lag in [1, 7]:\n",
    "        df[f'units_produced_lag{lag}'] = df.groupby('site_id')['units_produced'].shift(lag)\n",
    "        df[f'power_kwh_lag{lag}'] = df.groupby('site_id')['power_kwh'].shift(lag)\n",
    "    df['units_rolling7'] = df.groupby('site_id')['units_produced'].rolling(7).mean().reset_index(0, drop=True)\n",
    "    # Normalize by capacity if in meta\n",
    "    if 'capacity_units' in df.columns:\n",
    "        df['units_normalized'] = df['units_produced'] / df['capacity_units']\n",
    "    return df.fillna(0)  # Handle NaNs from shifts"
   ]
  },
  {
   "cell_type": "code",
   "execution_count": null,
   "id": "0b9bf33f",
   "metadata": {},
   "outputs": [],
   "source": []
  }
 ],
 "metadata": {
  "kernelspec": {
   "display_name": "assignment_env",
   "language": "python",
   "name": "python3"
  },
  "language_info": {
   "codemirror_mode": {
    "name": "ipython",
    "version": 3
   },
   "file_extension": ".py",
   "mimetype": "text/x-python",
   "name": "python",
   "nbconvert_exporter": "python",
   "pygments_lexer": "ipython3",
   "version": "3.13.3"
  }
 },
 "nbformat": 4,
 "nbformat_minor": 5
}
