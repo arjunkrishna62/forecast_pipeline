{
 "cells": [
  {
   "cell_type": "code",
   "execution_count": 17,
   "id": "7a92bb0a",
   "metadata": {},
   "outputs": [],
   "source": [
    "import pandas as pd\n",
    "from pathlib import Path"
   ]
  },
  {
   "cell_type": "code",
   "execution_count": 19,
   "id": "a94ad42c",
   "metadata": {},
   "outputs": [],
   "source": [
    "def load_operations(path: str):\n",
    "    df = pd.read_csv(path, parse_dates=['date'])\n",
    "    df['date'] = pd.to_datetime(df['date'])\n",
    "    return df\n",
    "\n",
    "def load_site_meta(path: str):\n",
    "    return pd.read_csv(path)\n",
    "\n",
    "def merge_and_reindex(ops_df: pd.DataFrame, meta_df: pd.DataFrame,\n",
    "                      site_col='site_id', date_col='date') -> pd.DataFrame:\n",
    "    df = ops_df.merge(meta_df, on=site_col, how='left')\n",
    "    dfs = []\n",
    "    for site, g in df.groupby(site_col):\n",
    "        g = g.set_index(date_col).sort_index()\n",
    "        full = pd.date_range(g.index.min(), g.index.max(), freq='D')\n",
    "        g = g.reindex(full)\n",
    "        g[site_col] = site\n",
    "        g.index.name = date_col\n",
    "        dfs.append(g.reset_index())\n",
    "    res = pd.concat(dfs, ignore_index=True, sort=False).sort_values([site_col, date_col])\n",
    "    return res"
   ]
  },
  {
   "cell_type": "code",
   "execution_count": null,
   "id": "26da9011",
   "metadata": {},
   "outputs": [],
   "source": []
  }
 ],
 "metadata": {
  "kernelspec": {
   "display_name": "assignment_env",
   "language": "python",
   "name": "python3"
  },
  "language_info": {
   "codemirror_mode": {
    "name": "ipython",
    "version": 3
   },
   "file_extension": ".py",
   "mimetype": "text/x-python",
   "name": "python",
   "nbconvert_exporter": "python",
   "pygments_lexer": "ipython3",
   "version": "3.13.3"
  }
 },
 "nbformat": 4,
 "nbformat_minor": 5
}
