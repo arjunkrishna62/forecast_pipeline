{
 "cells": [
  {
   "cell_type": "code",
   "execution_count": 3,
   "id": "0ac61b19",
   "metadata": {},
   "outputs": [],
   "source": [
    "import pandas as pd\n",
    "import numpy as np\n",
    "from statsmodels.tsa.arima.model import ARIMA\n",
    "from prophet import Prophet\n",
    "from sklearn.metrics import mean_absolute_error, mean_absolute_percentage_error\n",
    "\n",
    "def forecast_site(df_site, target='units_produced'):\n",
    "    df_site = df_site.set_index('date').sort_index()\n",
    "    train = df_site.iloc[:-30]  # Assume enough data\n",
    "    test = df_site.iloc[-30:]\n",
    "    \n",
    "    # Baseline: ARIMA\n",
    "    model_arima = ARIMA(train[target], order=(5,1,0))  # Tune order if needed\n",
    "    fit_arima = model_arima.fit()\n",
    "    pred_arima = fit_arima.forecast(len(test))\n",
    "    mae_base = mean_absolute_error(test[target], pred_arima)\n",
    "    mape_base = mean_absolute_percentage_error(test[target], pred_arima)\n",
    "    \n",
    "    # Improved: Prophet\n",
    "    prophet_df = train.reset_index()[['date', target]].rename(columns={'date': 'ds', target: 'y'})\n",
    "    model_prophet = Prophet(yearly_seasonality=True, weekly_seasonality=True)\n",
    "    model_prophet.fit(prophet_df)\n",
    "    future = model_prophet.make_future_dataframe(periods=len(test) + 14)  # +14 for forecast\n",
    "    pred_prophet = model_prophet.predict(future)\n",
    "    pred_improved = pred_prophet['yhat'].iloc[-len(test)-14:-14]  # Test part\n",
    "    mae_imp = mean_absolute_error(test[target], pred_improved)\n",
    "    mape_imp = mean_absolute_percentage_error(test[target], pred_improved)\n",
    "    \n",
    "    # Future forecast\n",
    "    future_dates = pd.date_range(df_site.index[-1] + pd.Timedelta(days=1), periods=14)\n",
    "    forecast_df = pd.DataFrame({\n",
    "        'date': future_dates,\n",
    "        'forecast_baseline': fit_arima.forecast(14),\n",
    "        'forecast_improved': pred_prophet['yhat'].iloc[-14:]\n",
    "    })\n",
    "    \n",
    "    print(f'{target} - Baseline MAE/MAPE: {mae_base:.2f}/{mape_base:.2%}, Improved: {mae_imp:.2f}/{mape_imp:.2%}')\n",
    "    return forecast_df\n",
    "\n",
    "def generate_forecasts(df, output_path='outputs/'):\n",
    "    forecasts_units = []\n",
    "    forecasts_power = []\n",
    "    sites = df['site_id'].unique()\n",
    "    for site in sites:\n",
    "        df_site = df[df['site_id'] == site]\n",
    "        forecasts_units.append(forecast_site(df_site, 'units_produced').assign(site_id=site))\n",
    "        forecasts_power.append(forecast_site(df_site, 'power_kwh').assign(site_id=site))\n",
    "    pd.concat(forecasts_units).to_csv(output_path + 'forecast_units.csv', index=False)\n",
    "    pd.concat(forecasts_power).to_csv(output_path + 'forecast_power.csv', index=False)"
   ]
  },
  {
   "cell_type": "code",
   "execution_count": null,
   "id": "dd9dfc26",
   "metadata": {},
   "outputs": [],
   "source": []
  }
 ],
 "metadata": {
  "kernelspec": {
   "display_name": "assignment_env",
   "language": "python",
   "name": "python3"
  },
  "language_info": {
   "codemirror_mode": {
    "name": "ipython",
    "version": 3
   },
   "file_extension": ".py",
   "mimetype": "text/x-python",
   "name": "python",
   "nbconvert_exporter": "python",
   "pygments_lexer": "ipython3",
   "version": "3.13.3"
  }
 },
 "nbformat": 4,
 "nbformat_minor": 5
}
